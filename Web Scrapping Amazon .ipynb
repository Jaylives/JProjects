{
 "cells": [
  {
   "cell_type": "code",
   "execution_count": 10,
   "id": "79368d16",
   "metadata": {},
   "outputs": [],
   "source": [
    "from bs4 import BeautifulSoup\n",
    "import requests\n",
    "import time\n",
    "import datetime\n",
    "\n",
    "import smtplib"
   ]
  },
  {
   "cell_type": "code",
   "execution_count": 11,
   "id": "062cb87c",
   "metadata": {},
   "outputs": [
    {
     "name": "stdout",
     "output_type": "stream",
     "text": [
      "\n",
      "                   Elegante' UV Protected Blue Gradient Premium Unisex Rectangular Sunglasses (Model : elt-15005/G)…\n",
      "                  \n",
      "\n",
      "                    ₹185.00\n",
      "                   \n"
     ]
    }
   ],
   "source": [
    "#Connect to web\n",
    "\n",
    "URL = \"https://www.amazon.in/Elegante-Protected-Gradient-Wayfarer-Sunglasses/dp/B075NPLPDP/ref=sr_1_12?dchild=1&pf_rd_i=1968036031&pf_rd_m=A1VBAL9TL5WCBF&pf_rd_p=a1c959b9-2121-4b12-af5c-30067f7b2857&pf_rd_r=ZVACZZ9053CDZRXG7R6G&pf_rd_s=merchandised-search-6&qid=1631360945&refinements=p_n_feature_fifteen_browse-bin%3A4296244031%2Cp_36%3A100-&s=apparel&sr=1-12\"\n",
    "\n",
    "headers = {\"User-Agent\": \"Mozilla/5.0 (Windows NT 10.0; Win64; x64) AppleWebKit/537.36 (KHTML, like Gecko) Chrome/93.0.4577.63 Safari/537.36 Edg/93.0.961.38\"}\n",
    "\n",
    "page = requests.get(URL,headers=headers)\n",
    "\n",
    "Soup1 = BeautifulSoup(page.content,\"html.parser\")\n",
    "\n",
    "Soup2 = BeautifulSoup(Soup1.prettify(), \"html.parser\")\n",
    "\n",
    "title = Soup2.find(id='productTitle').get_text()\n",
    "\n",
    "price = Soup2.find(id='priceblock_dealprice').get_text()\n",
    "\n",
    "\n",
    "print(title)\n",
    "print(price)\n"
   ]
  },
  {
   "cell_type": "code",
   "execution_count": 12,
   "id": "f65138b7",
   "metadata": {},
   "outputs": [
    {
     "name": "stdout",
     "output_type": "stream",
     "text": [
      "Elegante' UV Protected Blue Gradient Premium Unisex Rectangular Sunglasses\n",
      "₹185.00 rs\n"
     ]
    }
   ],
   "source": [
    "Product = title.strip()[:-23]\n",
    "Price = price.strip()\n",
    "\n",
    "print(Product)\n",
    "print(Price +' rs')"
   ]
  },
  {
   "cell_type": "code",
   "execution_count": 13,
   "id": "f972ebfa",
   "metadata": {},
   "outputs": [
    {
     "name": "stdout",
     "output_type": "stream",
     "text": [
      "2021-09-11\n"
     ]
    }
   ],
   "source": [
    "# Create a Timestamp for your output to track when data was collected\n",
    "\n",
    "import datetime\n",
    "\n",
    "Today = datetime.date.today()\n",
    "\n",
    "print(Today)"
   ]
  },
  {
   "cell_type": "code",
   "execution_count": 27,
   "id": "a9248d4b",
   "metadata": {},
   "outputs": [],
   "source": [
    "# Create CSV and write headers and data into the file\n",
    "\n",
    "import csv \n",
    "\n",
    "header = ['Product','Price','Date']\n",
    "data = [Product,Price,Today]\n",
    "\n",
    "\n",
    "#with open('AmazonWebScraperDataset.csv', 'w', newline='', encoding='UTF8') as f:\n",
    "    # writer = csv.writer(f)\n",
    "    # writer.writerow(header)\n",
    "    # writer.writerow(data)"
   ]
  },
  {
   "cell_type": "code",
   "execution_count": null,
   "id": "92523a73",
   "metadata": {},
   "outputs": [],
   "source": []
  },
  {
   "cell_type": "code",
   "execution_count": null,
   "id": "5fc6f691",
   "metadata": {},
   "outputs": [],
   "source": []
  },
  {
   "cell_type": "code",
   "execution_count": 28,
   "id": "3af9a1d7",
   "metadata": {},
   "outputs": [
    {
     "name": "stdout",
     "output_type": "stream",
     "text": [
      "                                             Product    Price        Date\n",
      "0  Elegante' UV Protected Blue Gradient Premium U...  ₹185.00  2021-09-11\n",
      "1  Elegante' UV Protected Blue Gradient Premium U...  ₹185.00  2021-09-11\n",
      "2  Elegante' UV Protected Blue Gradient Premium U...  ₹185.00  2021-09-11\n",
      "3  Elegante' UV Protected Blue Gradient Premium U...  ₹185.00  2021-09-11\n",
      "4  Elegante' UV Protected Blue Gradient Premium U...  ₹185.00  2021-09-11\n",
      "5  Elegante' UV Protected Blue Gradient Premium U...  ₹185.00  2021-09-11\n"
     ]
    }
   ],
   "source": [
    "import pandas as pd\n",
    "\n",
    "df = pd.read_csv(r'C:\\Users\\Jay\\AmazonWebScraperDataset.csv')\n",
    "\n",
    "print(df)\n"
   ]
  },
  {
   "cell_type": "code",
   "execution_count": 29,
   "id": "68ad0635",
   "metadata": {},
   "outputs": [],
   "source": [
    "#Now we are appending data to the csv\n",
    "\n",
    "with open('AmazonWebScraperDataset.csv', 'a+', newline='', encoding='UTF8') as f:\n",
    "    writer = csv.writer(f)\n",
    "    writer.writerow(data)"
   ]
  },
  {
   "cell_type": "code",
   "execution_count": 30,
   "id": "ce3b9102",
   "metadata": {},
   "outputs": [
    {
     "name": "stdout",
     "output_type": "stream",
     "text": [
      "                                             Product    Price        Date\n",
      "0  Elegante' UV Protected Blue Gradient Premium U...  ₹185.00  2021-09-11\n",
      "1  Elegante' UV Protected Blue Gradient Premium U...  ₹185.00  2021-09-11\n",
      "2  Elegante' UV Protected Blue Gradient Premium U...  ₹185.00  2021-09-11\n",
      "3  Elegante' UV Protected Blue Gradient Premium U...  ₹185.00  2021-09-11\n",
      "4  Elegante' UV Protected Blue Gradient Premium U...  ₹185.00  2021-09-11\n",
      "5  Elegante' UV Protected Blue Gradient Premium U...  ₹185.00  2021-09-11\n",
      "6  Elegante' UV Protected Blue Gradient Premium U...  ₹185.00  2021-09-11\n"
     ]
    }
   ],
   "source": [
    "import pandas as pd\n",
    "\n",
    "df = pd.read_csv(r'C:\\Users\\Jay\\AmazonWebScraperDataset.csv')\n",
    "\n",
    "print(df)"
   ]
  },
  {
   "cell_type": "code",
   "execution_count": null,
   "id": "ea6832b0",
   "metadata": {},
   "outputs": [],
   "source": []
  }
 ],
 "metadata": {
  "kernelspec": {
   "display_name": "Python 3",
   "language": "python",
   "name": "python3"
  },
  "language_info": {
   "codemirror_mode": {
    "name": "ipython",
    "version": 3
   },
   "file_extension": ".py",
   "mimetype": "text/x-python",
   "name": "python",
   "nbconvert_exporter": "python",
   "pygments_lexer": "ipython3",
   "version": "3.8.8"
  }
 },
 "nbformat": 4,
 "nbformat_minor": 5
}
